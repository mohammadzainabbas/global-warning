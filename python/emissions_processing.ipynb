{
 "cells": [
  {
   "cell_type": "code",
   "execution_count": 16,
   "metadata": {},
   "outputs": [],
   "source": [
    "import os\n",
    "import pandas as pd\n",
    "from pandas_profiling import ProfileReport\n",
    "\n",
    "FOLDER_PATH = \"ClimateWatch_AllData/ClimateWatch_HistoricalEmissions/\"\n",
    "CHOSEN_FILE = \"CW_HistoricalEmissions_PIK.csv\""
   ]
  },
  {
   "cell_type": "code",
   "execution_count": null,
   "metadata": {},
   "outputs": [],
   "source": [
    "# PANDAS PROFILING REPORTS\n",
    "for file in os.listdir(FOLDER_PATH):\n",
    "    if file == \"metadata.csv\":\n",
    "        continue\n",
    "    filepath = os.path.join(FOLDER_PATH, file)\n",
    "\n",
    "    name = file.split(\".csv\")[0]\n",
    "    df = pd.read_csv(filepath)\n",
    "    profile = ProfileReport(df, title=f\"Pandas Profiling Report - {name}\", minimal=True)\n",
    "    profile.to_file(f\"{name}_Report.html\")"
   ]
  },
  {
   "cell_type": "code",
   "execution_count": 34,
   "metadata": {},
   "outputs": [
    {
     "data": {
      "text/html": [
       "<div>\n",
       "<style scoped>\n",
       "    .dataframe tbody tr th:only-of-type {\n",
       "        vertical-align: middle;\n",
       "    }\n",
       "\n",
       "    .dataframe tbody tr th {\n",
       "        vertical-align: top;\n",
       "    }\n",
       "\n",
       "    .dataframe thead th {\n",
       "        text-align: right;\n",
       "    }\n",
       "</style>\n",
       "<table border=\"1\" class=\"dataframe\">\n",
       "  <thead>\n",
       "    <tr style=\"text-align: right;\">\n",
       "      <th></th>\n",
       "      <th>country</th>\n",
       "      <th>sector</th>\n",
       "      <th>gas</th>\n",
       "      <th>year</th>\n",
       "      <th>value (MtCO2e)</th>\n",
       "    </tr>\n",
       "  </thead>\n",
       "  <tbody>\n",
       "    <tr>\n",
       "      <th>0</th>\n",
       "      <td>ABW</td>\n",
       "      <td>Agriculture</td>\n",
       "      <td>CH4</td>\n",
       "      <td>1850</td>\n",
       "      <td>0.000050</td>\n",
       "    </tr>\n",
       "    <tr>\n",
       "      <th>1</th>\n",
       "      <td>ABW</td>\n",
       "      <td>Agriculture</td>\n",
       "      <td>KYOTOGHG</td>\n",
       "      <td>1850</td>\n",
       "      <td>0.000054</td>\n",
       "    </tr>\n",
       "    <tr>\n",
       "      <th>2</th>\n",
       "      <td>ABW</td>\n",
       "      <td>Agriculture</td>\n",
       "      <td>N2O</td>\n",
       "      <td>1850</td>\n",
       "      <td>0.000005</td>\n",
       "    </tr>\n",
       "    <tr>\n",
       "      <th>3</th>\n",
       "      <td>ABW</td>\n",
       "      <td>Energy</td>\n",
       "      <td>CH4</td>\n",
       "      <td>1850</td>\n",
       "      <td>0.000199</td>\n",
       "    </tr>\n",
       "    <tr>\n",
       "      <th>4</th>\n",
       "      <td>ABW</td>\n",
       "      <td>Energy</td>\n",
       "      <td>CO2</td>\n",
       "      <td>1850</td>\n",
       "      <td>0.000000</td>\n",
       "    </tr>\n",
       "  </tbody>\n",
       "</table>\n",
       "</div>"
      ],
      "text/plain": [
       "  country       sector       gas  year  value (MtCO2e)\n",
       "0     ABW  Agriculture       CH4  1850        0.000050\n",
       "1     ABW  Agriculture  KYOTOGHG  1850        0.000054\n",
       "2     ABW  Agriculture       N2O  1850        0.000005\n",
       "3     ABW       Energy       CH4  1850        0.000199\n",
       "4     ABW       Energy       CO2  1850        0.000000"
      ]
     },
     "execution_count": 34,
     "metadata": {},
     "output_type": "execute_result"
    }
   ],
   "source": [
    "# CLEANING AND MAKING IT TIDY\n",
    "\n",
    "df = pd.read_csv(os.path.join(FOLDER_PATH, CHOSEN_FILE))\n",
    "\n",
    "# remove useless columns\n",
    "df.drop([\"source\", \"unit\"], axis=1, inplace=True)\n",
    "# remove useless rows\n",
    "irrelevant_countries = [\"AIA\", \"AND\", \"ATA\", \"MAR\", \"MCO\", \"NRU\", \"SHN\", \"SMR\", \"TUV\", \"VAT\"]\n",
    "df.drop(df[df.country.isin(irrelevant_countries)].index, inplace=True)\n",
    "# melting\n",
    "df = df.melt(id_vars=[\"country\", \"sector\", \"gas\"], var_name=\"year\", value_name=\"value (MtCO2e)\")\n",
    "\n",
    "df.to_csv(\"emissions_dataset_.csv\", index=False)\n",
    "df.head()"
   ]
  }
 ],
 "metadata": {
  "kernelspec": {
   "display_name": "Python 3.9.6 64-bit",
   "language": "python",
   "name": "python3"
  },
  "language_info": {
   "codemirror_mode": {
    "name": "ipython",
    "version": 3
   },
   "file_extension": ".py",
   "mimetype": "text/x-python",
   "name": "python",
   "nbconvert_exporter": "python",
   "pygments_lexer": "ipython3",
   "version": "3.9.6"
  },
  "orig_nbformat": 4,
  "vscode": {
   "interpreter": {
    "hash": "31f2aee4e71d21fbe5cf8b01ff0e069b9275f58929596ceb00d14d90e3e16cd6"
   }
  }
 },
 "nbformat": 4,
 "nbformat_minor": 2
}
